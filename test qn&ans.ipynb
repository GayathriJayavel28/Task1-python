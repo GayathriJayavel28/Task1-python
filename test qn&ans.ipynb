{
 "cells": [
  {
   "cell_type": "code",
   "execution_count": 1,
   "id": "93a2e588-46a8-4e22-b605-c54dacf0af9d",
   "metadata": {},
   "outputs": [
    {
     "name": "stdin",
     "output_type": "stream",
     "text": [
      "enter the number: 789\n"
     ]
    },
    {
     "name": "stdout",
     "output_type": "stream",
     "text": [
      "odd\n"
     ]
    }
   ],
   "source": [
    "n=int(input('enter the number:'))\n",
    "if n %2==0:\n",
    "    print('even')\n",
    "else:\n",
    "    print('odd')"
   ]
  },
  {
   "cell_type": "code",
   "execution_count": 6,
   "id": "b9f33f0f-4d90-43c0-b519-2620bd1c7462",
   "metadata": {},
   "outputs": [
    {
     "name": "stdin",
     "output_type": "stream",
     "text": [
      "enter the number: 123\n"
     ]
    },
    {
     "name": "stdout",
     "output_type": "stream",
     "text": [
      "area of circle: 47505.060000000005\n"
     ]
    }
   ],
   "source": [
    "n=float(input('enter the number:'))\n",
    "pi=3.14\n",
    "area=pi*n*n\n",
    "print('area of circle:',area)"
   ]
  },
  {
   "cell_type": "code",
   "execution_count": 2,
   "id": "cd5482f2-cadc-4264-8aaa-aeb25f13f4f2",
   "metadata": {},
   "outputs": [
    {
     "name": "stdin",
     "output_type": "stream",
     "text": [
      "enter the number: 456\n"
     ]
    },
    {
     "name": "stdout",
     "output_type": "stream",
     "text": [
      "it is not palindrome\n"
     ]
    }
   ],
   "source": [
    "n=int(input('enter the number:'))\n",
    "t=n\n",
    "a=0\n",
    "while n>0:\n",
    "    r=n%10\n",
    "    a=(a*10)+r\n",
    "    n=n//10\n",
    "if t==a:\n",
    "    print('it is palindrome')\n",
    "else:\n",
    "    print('it is not palindrome')"
   ]
  },
  {
   "cell_type": "code",
   "execution_count": null,
   "id": "967994c4-8d89-4e61-a72d-2ee4a323a99d",
   "metadata": {},
   "outputs": [],
   "source": []
  }
 ],
 "metadata": {
  "kernelspec": {
   "display_name": "Python 3 (ipykernel)",
   "language": "python",
   "name": "python3"
  },
  "language_info": {
   "codemirror_mode": {
    "name": "ipython",
    "version": 3
   },
   "file_extension": ".py",
   "mimetype": "text/x-python",
   "name": "python",
   "nbconvert_exporter": "python",
   "pygments_lexer": "ipython3",
   "version": "3.12.7"
  }
 },
 "nbformat": 4,
 "nbformat_minor": 5
}
