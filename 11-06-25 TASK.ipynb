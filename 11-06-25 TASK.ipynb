{
 "cells": [
  {
   "cell_type": "code",
   "execution_count": 7,
   "id": "bed77c2c-6026-41a3-b31f-02e9778e437a",
   "metadata": {},
   "outputs": [
    {
     "name": "stdout",
     "output_type": "stream",
     "text": [
      "[1, 22, 3, 44, 55, 6, 4, 1200]\n",
      "[1, 22, 3, 55, 6, 4, 1200]\n",
      "[1, 22, 3, 55, 6, 4, 1200, 88]\n",
      "[1, 22, 55, 6, 4, 1200, 88]\n",
      "[1, 22, 55, 6, 4, 1200, 88, 1, 2, 3, 546]\n"
     ]
    }
   ],
   "source": [
    "'''1Q\n",
    "l=[1,22,3,44,55,6,11,1200]\n",
    "1. Add the number `4` at the 6th index of the list `l`.  \n",
    "2. Remove the value `44` from the list `l`.  \n",
    "3. Append the number `88` to the end of the list `l`.  \n",
    "4. Remove the value at the 2nd index of the list `l`.  \n",
    "5. Merge the list `m = [1, 2, 3, 546]` into the list `l`.'''\n",
    "\n",
    "\n",
    "l=[1,22,3,44,55,6,11,1200]\n",
    "\n",
    "l[6]=4\n",
    "print(l)\n",
    "\n",
    "l.remove(44)\n",
    "print(l)\n",
    "\n",
    "l.append(88)\n",
    "print(l)\n",
    "\n",
    "l.pop(2)\n",
    "print(l)\n",
    "\n",
    "m=[1,2,3,546]\n",
    "l.extend(m)\n",
    "print(l)\n"
   ]
  },
  {
   "cell_type": "code",
   "execution_count": 59,
   "id": "9622ccc9-1b22-474f-bfa4-17ccd20889a9",
   "metadata": {},
   "outputs": [
    {
     "name": "stdout",
     "output_type": "stream",
     "text": [
      "HellopythonWorld\n",
      "Hellopython\n",
      "Hellopython2024\n",
      "Helopython2024\n",
      "Helopython2024programming\n"
     ]
    }
   ],
   "source": [
    "'''Q2 \n",
    "s = \"HelloWorld\"`\n",
    "1. Insert the substring `\"Python\"` at the 6th index of the string .  \n",
    "2. Remove the substring `\"World\"` from the string `s`.  \n",
    "3. Append the substring `\"2024\"` to the end of the string `s`.  \n",
    "4. Remove the character at the 2nd index of the string `s`.  \n",
    "5. Concatenate the string `t = \"Programming\"` to the string `s`.'''\n",
    "\n",
    "\n",
    "s='HelloWorld'\n",
    "\n",
    "s=s[:5]+'python'+s[5:]\n",
    "print(s)\n",
    "\n",
    "s=s.replace('World','')\n",
    "print(s)\n",
    "\n",
    "s+='2024'\n",
    "print(s)\n",
    "\n",
    "s=s[:2]+s[3:]\n",
    "print(s)\n",
    "\n",
    "t='programming'\n",
    "s+=t\n",
    "print(s)"
   ]
  },
  {
   "cell_type": "code",
   "execution_count": 22,
   "id": "4831a8f8-2e2b-4d02-afdf-02c3692d444e",
   "metadata": {},
   "outputs": [
    {
     "name": "stdout",
     "output_type": "stream",
     "text": [
      "Hello World\n"
     ]
    }
   ],
   "source": [
    "'''Q3\n",
    "input: \"hello world\"\n",
    "Output: \"Hello World'''\n",
    "\n",
    "\n",
    "s='hello world'\n",
    "s=(s.title())\n",
    "print(s)\n"
   ]
  },
  {
   "cell_type": "code",
   "execution_count": 30,
   "id": "a1fe0cd8-f658-4367-8be7-13f979a8f822",
   "metadata": {},
   "outputs": [
    {
     "name": "stdout",
     "output_type": "stream",
     "text": [
      "hELLO wORLD\n"
     ]
    }
   ],
   "source": [
    "'''Q4\n",
    "Input: \"Hello World\"\n",
    "Output: \"hELLO wORLD'''\n",
    "\n",
    "\n",
    "s='Hello World'\n",
    "s=(s.swapcase())\n",
    "print(s)"
   ]
  },
  {
   "cell_type": "code",
   "execution_count": null,
   "id": "932c7deb-9652-4caf-97c2-76c0c9e40b8b",
   "metadata": {},
   "outputs": [],
   "source": []
  },
  {
   "cell_type": "code",
   "execution_count": 39,
   "id": "853ea3c5-9e97-425f-8631-7d3f342d085d",
   "metadata": {},
   "outputs": [
    {
     "name": "stdout",
     "output_type": "stream",
     "text": [
      "MyNameIsjayavelGayathri\n",
      "MyNameIsjayavel\n",
      "MyNameIsjayavel2025\n",
      "MyNamejayavel2025\n",
      "MyNamejayavel2025batch\n"
     ]
    }
   ],
   "source": [
    "g='MyNameIsGayathri'        #USING STRING\n",
    "\n",
    "g=g[:8]+'jayavel'+g[8:]      #INSERT\n",
    "print(g)\n",
    "\n",
    "g=g.replace('Gayathri','')   #REMOVE\n",
    "print(g)\n",
    "\n",
    "g+='2025'                    #APPEND\n",
    "print(g)\n",
    "\n",
    "g=g[:6]+g[8:]                #REMOVE INDEX\n",
    "print(g)\n",
    "\n",
    "s='batch'                    #ADD(CONCATENATE)\n",
    "g+=s\n",
    "print(g)"
   ]
  },
  {
   "cell_type": "code",
   "execution_count": null,
   "id": "fa8a9c75-020d-428e-b452-26ba2edb093f",
   "metadata": {},
   "outputs": [],
   "source": []
  },
  {
   "cell_type": "code",
   "execution_count": null,
   "id": "d5099e27-5235-4438-8f23-c9194bd48b7c",
   "metadata": {},
   "outputs": [],
   "source": []
  }
 ],
 "metadata": {
  "kernelspec": {
   "display_name": "Python 3 (ipykernel)",
   "language": "python",
   "name": "python3"
  },
  "language_info": {
   "codemirror_mode": {
    "name": "ipython",
    "version": 3
   },
   "file_extension": ".py",
   "mimetype": "text/x-python",
   "name": "python",
   "nbconvert_exporter": "python",
   "pygments_lexer": "ipython3",
   "version": "3.12.7"
  }
 },
 "nbformat": 4,
 "nbformat_minor": 5
}
