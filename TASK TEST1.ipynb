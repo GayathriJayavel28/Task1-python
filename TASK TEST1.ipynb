{
 "cells": [
  {
   "cell_type": "code",
   "execution_count": null,
   "id": "2e2ba862-83a7-4d80-ba3d-912ddb6e94e5",
   "metadata": {},
   "outputs": [],
   "source": [
    "'''Check Even or Odd \n",
    "Problem: Determine if a number is even or odd.\n",
    "Sample Input:\n",
    "number = 17\n",
    "Sample Output:\n",
    "Odd'''\n",
    "\n",
    "i=101\n",
    "if i%2==0:\n",
    "    print('EVEN')\n",
    "else:\n",
    "    print('ODD')\n"
   ]
  },
  {
   "cell_type": "code",
   "execution_count": null,
   "id": "6b901368-b673-40e1-8908-a9272570bd52",
   "metadata": {},
   "outputs": [],
   "source": [
    "a=input('enter a values')\n",
    "if a==a[::-1]:\n",
    "    print('palindrome')\n",
    "else:\n",
    "    print('not palindrome')"
   ]
  },
  {
   "cell_type": "code",
   "execution_count": null,
   "id": "86b254ce-5150-4af5-8aaf-bb3ec6f325b5",
   "metadata": {},
   "outputs": [],
   "source": [
    "n=[23,45,67,8,24,78]\n",
    "h=0\n",
    "for i in n:\n",
    "    if i>h:\n",
    "        h=i\n",
    "l=h\n",
    "for i in n:\n",
    "    if n<l:\n",
    "        l=i\n",
    "print(h)\n",
    "print(l)"
   ]
  },
  {
   "cell_type": "code",
   "execution_count": null,
   "id": "5a82de4d-f1e3-4b34-9b4d-8b0bfd252fdf",
   "metadata": {},
   "outputs": [],
   "source": [
    "numbers=[45,1,3,30,25]\n",
    "highest_num=0\n",
    "for number in numbers:\n",
    "    if number > highest_num:\n",
    "        highest_num = number\n",
    "lowest_num=highest_num\n",
    "for number in numbers:\n",
    "    if number<lowest_num:\n",
    "        lowest_num=number\n",
    "        print(highest_num)\n",
    "        print(lowest_num)\n",
    "        "
   ]
  },
  {
   "cell_type": "code",
   "execution_count": null,
   "id": "2627a7a1-be2c-40b7-ba0c-2c8d65782685",
   "metadata": {},
   "outputs": [],
   "source": [
    "'''n=[45,1,3,30,25]\n",
    "h=0\n",
    "for i in n:\n",
    "    if i > h:\n",
    "        h = i\n",
    "l=h\n",
    "for j in n:\n",
    "    if j<l:\n",
    "        l=j\n",
    "        print(h)\n",
    "        print(l)'''\n",
    "\n",
    "\n",
    "n=[23,45,67,8,24,78]\n",
    "h=0\n",
    "for i in n:\n",
    "    if i>h:\n",
    "        h=i\n",
    "l=h\n",
    "for i in n:\n",
    "    if i<l:\n",
    "        l=i\n",
    "print(h)\n",
    "print(l)\n",
    "        "
   ]
  },
  {
   "cell_type": "code",
   "execution_count": null,
   "id": "eb152c43-0bfc-4467-a535-9c4cbaaf4b48",
   "metadata": {},
   "outputs": [],
   "source": [
    "l=[11,45,67,343,87,90,233]\n",
    "print(min(l))\n",
    "print(max(l))"
   ]
  },
  {
   "cell_type": "code",
   "execution_count": null,
   "id": "9f12a78e-ada3-4a75-8677-834e35d1d8c0",
   "metadata": {},
   "outputs": [],
   "source": [
    "s='gayathri'\n",
    "g=0\n",
    "v='aeiouAEIOU'\n",
    "for i in s:\n",
    "    if i in v:\n",
    "        g+=1\n",
    "print(g)"
   ]
  },
  {
   "cell_type": "code",
   "execution_count": null,
   "id": "043b5167-7daf-4ff6-bd57-23433c89e4f5",
   "metadata": {},
   "outputs": [],
   "source": [
    "n=5\n",
    "s=1\n",
    "for i in range(1,5+1):\n",
    "    s=s*i\n",
    "print(s)\n",
    "    "
   ]
  },
  {
   "cell_type": "code",
   "execution_count": null,
   "id": "9eb137cd-bfad-4292-8e5a-49e242412797",
   "metadata": {},
   "outputs": [],
   "source": [
    "n=10\n",
    "s=0\n",
    "for i in range(2,n):\n",
    "    if n%i==0:\n",
    "        s+=1\n",
    "        if s==1:\n",
    "            print('prime')\n",
    "            break\n",
    "else:\n",
    "    print('not prime')"
   ]
  },
  {
   "cell_type": "code",
   "execution_count": null,
   "id": "2ec250b4-aa3a-4076-a361-4a317cd7a5a9",
   "metadata": {},
   "outputs": [],
   "source": [
    "n=29\n",
    "for i in range(2,n):\n",
    "    if n%i==0:\n",
    "        print('not prime')\n",
    "        break\n",
    "else:\n",
    "    print('prime')"
   ]
  },
  {
   "cell_type": "code",
   "execution_count": 2,
   "id": "978be0dd-326d-4f02-af1e-57ed39b9574a",
   "metadata": {},
   "outputs": [
    {
     "name": "stdout",
     "output_type": "stream",
     "text": [
      "IRHTAYAG\n"
     ]
    }
   ],
   "source": [
    "a='GAYATHRI'\n",
    "b=''\n",
    "for i in a:\n",
    "    b=i+b\n",
    "print(b)"
   ]
  },
  {
   "cell_type": "code",
   "execution_count": null,
   "id": "216d1734-255c-455e-b408-9311a0e6b39b",
   "metadata": {},
   "outputs": [],
   "source": [
    "a=[23,56,68,7,3232,4,557,7,4]\n",
    "b=sorted(a)\n",
    "c=sorted(a,reverse=True)\n",
    "print('asending:',b)\n",
    "print('desending:',c)"
   ]
  },
  {
   "cell_type": "code",
   "execution_count": null,
   "id": "8aca4cfa-6909-4bfe-bf82-a3f7b1898039",
   "metadata": {},
   "outputs": [],
   "source": [
    "\n",
    "data = [34, 12, 5, 66, 29]\n",
    "ascending = sorted(data)\n",
    "descending = sorted(data, reverse=True)\n",
    "print(\"Ascending:\", ascending)\n",
    "print(\"Descending:\", descending)\n"
   ]
  },
  {
   "cell_type": "code",
   "execution_count": null,
   "id": "d9c02f6b-a7cc-47bd-a99f-258d9aaccd0a",
   "metadata": {},
   "outputs": [],
   "source": [
    "'''1. Check for Anagram\n",
    "Problem: Determine if two strings are anagrams of each other.\n",
    "Sample Input:\n",
    "str1 = \"listen\"\n",
    "str2 = \"silent\"\n",
    "Sample Output:\n",
    "True'''\n",
    "\n",
    "s='anagram'\n",
    "s1='nagaram'\n",
    "if(sorted(s)==sorted(s1)):\n",
    "    print('anagram')\n",
    "else:\n",
    "    print('not anagram')"
   ]
  },
  {
   "cell_type": "code",
   "execution_count": null,
   "id": "91d78081-d553-4ffd-b01b-bc4067f7e0ef",
   "metadata": {},
   "outputs": [],
   "source": [
    "'''2. Check for Palindrome\n",
    "Problem: Check if a string is the same when reversed.\n",
    "Sample Input:\n",
    "text = \"madam\"\n",
    "Sample Output:\n",
    "True'''\n",
    "\n",
    "\n",
    "p='tree'\n",
    "if(p==p[::-1]):\n",
    "    print('true')\n",
    "else:\n",
    "    print('false')\n"
   ]
  },
  {
   "cell_type": "code",
   "execution_count": null,
   "id": "e024248a-ad20-4c18-80e9-c4bcf9f2c739",
   "metadata": {},
   "outputs": [],
   "source": [
    "'''3. Find Maximum and Minimum Number\n",
    "Problem: Find the max and min number from a list.\n",
    "Sample Input:\n",
    "numbers = [12, 45, 7, 89, 23]\n",
    "Sample Output:\n",
    "Max: 89, Min: 7'''\n",
    "\n",
    "l=[12, 45, 7, 89, 23]\n",
    "high=0\n",
    "for i in l:\n",
    "    if i>high:\n",
    "        high=i\n",
    "low=high\n",
    "for i in l:\n",
    "    if i<low:\n",
    "        low=i\n",
    "print('max:',high)\n",
    "print('min:',low)"
   ]
  },
  {
   "cell_type": "code",
   "execution_count": 3,
   "id": "31d5b475-c0b6-4a34-a0ac-a1c6827db582",
   "metadata": {},
   "outputs": [
    {
     "name": "stdout",
     "output_type": "stream",
     "text": [
      "false\n"
     ]
    }
   ],
   "source": [
    "'''1. Check for Anagram\n",
    "Problem: Determine if two strings are anagrams of each other.\n",
    "Sample Input:\n",
    "str1 = \"listen\"\n",
    "str2 = \"silent\"\n",
    "Sample Output:\n",
    "True'''\n",
    "str1='gayathri'\n",
    "str2='silent'\n",
    "if(sorted(str1)==sorted(str2)):\n",
    "    print('true')\n",
    "else:\n",
    "    print('false')"
   ]
  },
  {
   "cell_type": "code",
   "execution_count": 6,
   "id": "8b2474b1-3b5b-4d7d-89ae-29b2c45a623a",
   "metadata": {},
   "outputs": [
    {
     "name": "stdout",
     "output_type": "stream",
     "text": [
      "true\n"
     ]
    }
   ],
   "source": [
    "'''2. Check for Palindrome\n",
    "Problem: Check if a string is the same when reversed.\n",
    "Sample Input:\n",
    "text = \"madam\"\n",
    "Sample Output:\n",
    "True'''\n",
    "\n",
    "test='malayalam'\n",
    "if(test==test[::-1]):\n",
    "    print('true')\n",
    "else:\n",
    "    print('false')"
   ]
  },
  {
   "cell_type": "code",
   "execution_count": 10,
   "id": "ababfd4f-82bc-406c-a15f-fb2f3da561d1",
   "metadata": {},
   "outputs": [
    {
     "name": "stdout",
     "output_type": "stream",
     "text": [
      "89\n",
      "7\n"
     ]
    }
   ],
   "source": [
    "'''3. Find Maximum and Minimum Number\n",
    "Problem: Find the max and min number from a list.\n",
    "Sample Input:\n",
    "numbers = [12, 45, 7, 89, 23]\n",
    "Sample Output:\n",
    "Max: 89, Min: 7'''\n",
    "\n",
    "numbers = [12, 45, 7, 89, 23]\n",
    "high=0\n",
    "for i in numbers:\n",
    "    if i>high:\n",
    "        high=i\n",
    "low=high\n",
    "for i in numbers:\n",
    "    if i<low:\n",
    "        low=i\n",
    "print(high)\n",
    "print(low)"
   ]
  },
  {
   "cell_type": "code",
   "execution_count": 11,
   "id": "dcec0b33-9c2c-4254-80bb-6480d49279bc",
   "metadata": {},
   "outputs": [
    {
     "name": "stdout",
     "output_type": "stream",
     "text": [
      "Asending: [5, 12, 29, 34, 66]\n",
      "Descending: [66, 34, 29, 12, 5]\n"
     ]
    }
   ],
   "source": [
    "'''4. Sort in Ascending and Descending Order\n",
    "Problem: Sort a list both ways.\n",
    "Sample Input:\n",
    "data = [34, 12, 5, 66, 29]\n",
    "Sample Output:\n",
    "Ascending: [5, 12, 29, 34, 66]\n",
    "Descending: [66, 34, 29, 12, 5]'''\n",
    "\n",
    "\n",
    "data = [34, 12, 5, 66, 29]\n",
    "s=sorted(data)\n",
    "g=sorted((data),reverse=True)\n",
    "\n",
    "print('Asending:',s)\n",
    "print('Descending:',g)"
   ]
  },
  {
   "cell_type": "code",
   "execution_count": 15,
   "id": "ef09e56a-f271-4666-b456-8be577a5f026",
   "metadata": {},
   "outputs": [
    {
     "name": "stdout",
     "output_type": "stream",
     "text": [
      "[1, 2, 3, 4, 5]\n"
     ]
    }
   ],
   "source": [
    "'''5. Remove Duplicates from a List\n",
    "Problem: Remove duplicate elements while preserving order.\n",
    "Sample Input:\n",
    "items = [1, 2, 2, 3, 4, 4, 5]\n",
    "Sample Output:\n",
    "[1, 2, 3, 4, 5]'''\n",
    "\n",
    "items = [1, 2, 2, 3, 4, 4, 5]\n",
    "d=[]\n",
    "for i in items:\n",
    "    if i not in d:\n",
    "        d.append(i)\n",
    "print(d)\n"
   ]
  },
  {
   "cell_type": "code",
   "execution_count": 16,
   "id": "1672b9ac-497b-4f40-b8cd-9b68055eb0d7",
   "metadata": {},
   "outputs": [
    {
     "name": "stdout",
     "output_type": "stream",
     "text": [
      "odd\n"
     ]
    }
   ],
   "source": [
    "'''6. Check Even or Odd\n",
    "Problem: Determine if a number is even or odd.\n",
    "Sample Input:\n",
    "number = 17\n",
    "Sample Output:\n",
    "Odd'''\n",
    "\n",
    "number = 17\n",
    "if number%2==0:\n",
    "    print('even')\n",
    "else:\n",
    "    print('odd')"
   ]
  },
  {
   "cell_type": "code",
   "execution_count": 20,
   "id": "cb103216-054d-43f2-aa2a-725ec3280167",
   "metadata": {},
   "outputs": [
    {
     "name": "stdout",
     "output_type": "stream",
     "text": [
      "vowel: 3\n"
     ]
    }
   ],
   "source": [
    "'''7. Count Vowels in a String\n",
    "Sample Input:\n",
    "text = \"Hello World\"\n",
    "Sample Output:\n",
    "Vowels: 3'''\n",
    "\n",
    "text = \"Hello World\"\n",
    "a=0\n",
    "v='aeiouAEIOU'\n",
    "\n",
    "for i in text:\n",
    "    if i in v:\n",
    "        a=a+1\n",
    "print('vowel:',a)\n"
   ]
  },
  {
   "cell_type": "code",
   "execution_count": 22,
   "id": "c116ffb5-02a6-40dd-b801-b5b114bb7173",
   "metadata": {},
   "outputs": [
    {
     "name": "stdout",
     "output_type": "stream",
     "text": [
      "120\n"
     ]
    }
   ],
   "source": [
    "'''8. Find Factorial of a Number\n",
    "Sample Input:\n",
    "n = 5\n",
    "Sample Output:\n",
    "Factorial: 120'''\n",
    "\n",
    "n=5\n",
    "c=1\n",
    "for i in range(1,n+1):\n",
    "    c=i*c\n",
    "print(c)"
   ]
  },
  {
   "cell_type": "markdown",
   "id": "506eaf78-36ae-483d-84bf-75d16ef131cd",
   "metadata": {},
   "source": [
    "# '''9. Check Prime Number\n",
    "Sample Input:\n",
    "number = 13\n",
    "Sample Output:\n",
    "Prime'''\n",
    "\n",
    "number=13\n",
    "for i in range(2,number):\n",
    "    if number%i==0:\n",
    "        print('not prime')\n",
    "else:\n",
    "    print('prime')"
   ]
  },
  {
   "cell_type": "code",
   "execution_count": null,
   "id": "c8b79ff8-8cf8-4504-9681-591069d475ee",
   "metadata": {},
   "outputs": [],
   "source": [
    "'''10. Reverse a String Without Using Built-in Functions\n",
    "Sample Input:\n",
    "text = \"Python\"\n",
    "Sample Output:\n",
    "nohtyP'''\n",
    "\n",
    "text = \"Python\"\n",
    "\n",
    "\n",
    "\n",
    "\n",
    "\n",
    "\n",
    "\n",
    "\n",
    "\n",
    "\n",
    "\n",
    "\n",
    "\n",
    "\n",
    "\n",
    "\n",
    "\n",
    "\n",
    "\n",
    "\n",
    "\n",
    "\n",
    "\n",
    "\n",
    "\n",
    "\n"
   ]
  }
 ],
 "metadata": {
  "kernelspec": {
   "display_name": "Python 3 (ipykernel)",
   "language": "python",
   "name": "python3"
  },
  "language_info": {
   "codemirror_mode": {
    "name": "ipython",
    "version": 3
   },
   "file_extension": ".py",
   "mimetype": "text/x-python",
   "name": "python",
   "nbconvert_exporter": "python",
   "pygments_lexer": "ipython3",
   "version": "3.12.7"
  }
 },
 "nbformat": 4,
 "nbformat_minor": 5
}
